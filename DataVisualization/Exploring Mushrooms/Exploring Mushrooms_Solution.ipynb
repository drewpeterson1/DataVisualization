{
 "cells": [
  {
   "cell_type": "markdown",
   "metadata": {},
   "source": [
    "# Exploring Mushrooms"
   ]
  },
  {
   "cell_type": "markdown",
   "metadata": {},
   "source": [
    "When asked to think of a mushroom, you might imagine the following:\n",
    "\n",
    "![this shows a photo of some generic button mushrooms in a forest.](https://static-assets.codecademy.com/Paths/data-analyst-career-path/mushroom-analysis-project/generic_mushroom.jpg)\n",
    "\n",
    "It's a beige, convex mushroom top with a uniform, thick stem. Maybe you thought of it cut up on a slice of delicious pizza or braised with sauce over rice. Regardless, you most likely did not consider this:\n",
    "\n",
    "![A photo of some beautiful mushrooms in a forest. They do not have the signature \"mushroom top\" and have visually appealing grooves that make them look almost like floral.](https://static-assets.codecademy.com/Paths/data-analyst-career-path/mushroom-analysis-project/pretty_mushroom.jpg)\n",
    "\n",
    "Mushrooms exist in a variety of different colors, shapes, sizes, textures, etc. In this project, you will analyze an extensive mushroom dataset from [UCI](https://archive.ics.uci.edu/ml/datasets/Mushroom) using bar charts and acquaint yourself with the diverse array of mushrooms that exist worldwide."
   ]
  },
  {
   "cell_type": "markdown",
   "metadata": {},
   "source": [
    "## Looking Over the Data"
   ]
  },
  {
   "cell_type": "markdown",
   "metadata": {},
   "source": [
    "1. Take a look at the code block below where we've loaded **mushroom_data.csv**. It contains 23 columns of data describing thousands of mushrooms. In the output below the code block, data about five different mushrooms is shown.\n",
    "\n",
    "   Read through this table to get a sense of the type(s) of variables in the data and the structure of the table. It may also be helpful to read through the information on [Kaggle](https://www.kaggle.com/uciml/mushroom-classification).\n",
    "   \n",
    "   Before you move on to plotting any of this data, answer the following questions:\n",
    "   * What type(s) of variables does **mushroom_data.csv** contain?\n",
    "   * How many of the variables can we visualize effectively with a bar graph?"
   ]
  },
  {
   "cell_type": "code",
   "execution_count": 2,
   "metadata": {},
   "outputs": [
    {
     "data": {
      "text/html": [
       "<div>\n",
       "<style scoped>\n",
       "    .dataframe tbody tr th:only-of-type {\n",
       "        vertical-align: middle;\n",
       "    }\n",
       "\n",
       "    .dataframe tbody tr th {\n",
       "        vertical-align: top;\n",
       "    }\n",
       "\n",
       "    .dataframe thead th {\n",
       "        text-align: right;\n",
       "    }\n",
       "</style>\n",
       "<table border=\"1\" class=\"dataframe\">\n",
       "  <thead>\n",
       "    <tr style=\"text-align: right;\">\n",
       "      <th></th>\n",
       "      <th>Class</th>\n",
       "      <th>Cap Shape</th>\n",
       "      <th>Cap Surface</th>\n",
       "      <th>Cap Color</th>\n",
       "      <th>Bruises</th>\n",
       "      <th>Odor</th>\n",
       "      <th>Gill Attachment</th>\n",
       "      <th>Gill Spacing</th>\n",
       "      <th>Gill Size</th>\n",
       "      <th>Gill Color</th>\n",
       "      <th>Stalk Shape</th>\n",
       "      <th>Stalk Root</th>\n",
       "      <th>Stalk Surface Above Ring</th>\n",
       "      <th>Stalk Surface Below Ring</th>\n",
       "      <th>Stalk Color Above Ring</th>\n",
       "      <th>Stalk Color Below Ring</th>\n",
       "      <th>Veil Type</th>\n",
       "      <th>Veil Color</th>\n",
       "      <th>Ring Number</th>\n",
       "      <th>Ring Type</th>\n",
       "      <th>Spore Print Color</th>\n",
       "      <th>Population</th>\n",
       "      <th>Habitat</th>\n",
       "    </tr>\n",
       "  </thead>\n",
       "  <tbody>\n",
       "    <tr>\n",
       "      <th>0</th>\n",
       "      <td>Poisonous</td>\n",
       "      <td>Convex</td>\n",
       "      <td>Smooth</td>\n",
       "      <td>Brown</td>\n",
       "      <td>True</td>\n",
       "      <td>Pungent</td>\n",
       "      <td>Free</td>\n",
       "      <td>Close</td>\n",
       "      <td>Narrow</td>\n",
       "      <td>Black</td>\n",
       "      <td>Enlarging</td>\n",
       "      <td>Equal</td>\n",
       "      <td>Smooth</td>\n",
       "      <td>Smooth</td>\n",
       "      <td>White</td>\n",
       "      <td>White</td>\n",
       "      <td>Partial</td>\n",
       "      <td>White</td>\n",
       "      <td>One</td>\n",
       "      <td>Pendant</td>\n",
       "      <td>Black</td>\n",
       "      <td>Scattered</td>\n",
       "      <td>Urban</td>\n",
       "    </tr>\n",
       "    <tr>\n",
       "      <th>1</th>\n",
       "      <td>Edible</td>\n",
       "      <td>Convex</td>\n",
       "      <td>Smooth</td>\n",
       "      <td>Yellow</td>\n",
       "      <td>True</td>\n",
       "      <td>Almond</td>\n",
       "      <td>Free</td>\n",
       "      <td>Close</td>\n",
       "      <td>Broad</td>\n",
       "      <td>Black</td>\n",
       "      <td>Enlarging</td>\n",
       "      <td>Club</td>\n",
       "      <td>Smooth</td>\n",
       "      <td>Smooth</td>\n",
       "      <td>White</td>\n",
       "      <td>White</td>\n",
       "      <td>Partial</td>\n",
       "      <td>White</td>\n",
       "      <td>One</td>\n",
       "      <td>Pendant</td>\n",
       "      <td>Brown</td>\n",
       "      <td>Numerous</td>\n",
       "      <td>Grasses</td>\n",
       "    </tr>\n",
       "    <tr>\n",
       "      <th>2</th>\n",
       "      <td>Edible</td>\n",
       "      <td>Bell</td>\n",
       "      <td>Smooth</td>\n",
       "      <td>White</td>\n",
       "      <td>True</td>\n",
       "      <td>Anise</td>\n",
       "      <td>Free</td>\n",
       "      <td>Close</td>\n",
       "      <td>Broad</td>\n",
       "      <td>Brown</td>\n",
       "      <td>Enlarging</td>\n",
       "      <td>Club</td>\n",
       "      <td>Smooth</td>\n",
       "      <td>Smooth</td>\n",
       "      <td>White</td>\n",
       "      <td>White</td>\n",
       "      <td>Partial</td>\n",
       "      <td>White</td>\n",
       "      <td>One</td>\n",
       "      <td>Pendant</td>\n",
       "      <td>Brown</td>\n",
       "      <td>Numerous</td>\n",
       "      <td>Meadows</td>\n",
       "    </tr>\n",
       "    <tr>\n",
       "      <th>3</th>\n",
       "      <td>Poisonous</td>\n",
       "      <td>Convex</td>\n",
       "      <td>Scaly</td>\n",
       "      <td>White</td>\n",
       "      <td>True</td>\n",
       "      <td>Pungent</td>\n",
       "      <td>Free</td>\n",
       "      <td>Close</td>\n",
       "      <td>Narrow</td>\n",
       "      <td>Brown</td>\n",
       "      <td>Enlarging</td>\n",
       "      <td>Equal</td>\n",
       "      <td>Smooth</td>\n",
       "      <td>Smooth</td>\n",
       "      <td>White</td>\n",
       "      <td>White</td>\n",
       "      <td>Partial</td>\n",
       "      <td>White</td>\n",
       "      <td>One</td>\n",
       "      <td>Pendant</td>\n",
       "      <td>Black</td>\n",
       "      <td>Scattered</td>\n",
       "      <td>Urban</td>\n",
       "    </tr>\n",
       "    <tr>\n",
       "      <th>4</th>\n",
       "      <td>Edible</td>\n",
       "      <td>Convex</td>\n",
       "      <td>Smooth</td>\n",
       "      <td>Gray</td>\n",
       "      <td>False</td>\n",
       "      <td>NaN</td>\n",
       "      <td>Free</td>\n",
       "      <td>Crowded</td>\n",
       "      <td>Broad</td>\n",
       "      <td>Black</td>\n",
       "      <td>Tapering</td>\n",
       "      <td>Equal</td>\n",
       "      <td>Smooth</td>\n",
       "      <td>Smooth</td>\n",
       "      <td>White</td>\n",
       "      <td>White</td>\n",
       "      <td>Partial</td>\n",
       "      <td>White</td>\n",
       "      <td>One</td>\n",
       "      <td>Evanescent</td>\n",
       "      <td>Brown</td>\n",
       "      <td>Abundant</td>\n",
       "      <td>Grasses</td>\n",
       "    </tr>\n",
       "  </tbody>\n",
       "</table>\n",
       "</div>"
      ],
      "text/plain": [
       "       Class Cap Shape Cap Surface Cap Color  Bruises     Odor  \\\n",
       "0  Poisonous    Convex      Smooth     Brown     True  Pungent   \n",
       "1     Edible    Convex      Smooth    Yellow     True   Almond   \n",
       "2     Edible      Bell      Smooth     White     True    Anise   \n",
       "3  Poisonous    Convex       Scaly     White     True  Pungent   \n",
       "4     Edible    Convex      Smooth      Gray    False      NaN   \n",
       "\n",
       "  Gill Attachment Gill Spacing Gill Size Gill Color Stalk Shape Stalk Root  \\\n",
       "0            Free        Close    Narrow      Black   Enlarging      Equal   \n",
       "1            Free        Close     Broad      Black   Enlarging       Club   \n",
       "2            Free        Close     Broad      Brown   Enlarging       Club   \n",
       "3            Free        Close    Narrow      Brown   Enlarging      Equal   \n",
       "4            Free      Crowded     Broad      Black    Tapering      Equal   \n",
       "\n",
       "  Stalk Surface Above Ring Stalk Surface Below Ring Stalk Color Above Ring  \\\n",
       "0                   Smooth                   Smooth                  White   \n",
       "1                   Smooth                   Smooth                  White   \n",
       "2                   Smooth                   Smooth                  White   \n",
       "3                   Smooth                   Smooth                  White   \n",
       "4                   Smooth                   Smooth                  White   \n",
       "\n",
       "  Stalk Color Below Ring Veil Type Veil Color Ring Number   Ring Type  \\\n",
       "0                  White   Partial      White         One     Pendant   \n",
       "1                  White   Partial      White         One     Pendant   \n",
       "2                  White   Partial      White         One     Pendant   \n",
       "3                  White   Partial      White         One     Pendant   \n",
       "4                  White   Partial      White         One  Evanescent   \n",
       "\n",
       "  Spore Print Color Population  Habitat  \n",
       "0             Black  Scattered    Urban  \n",
       "1             Brown   Numerous  Grasses  \n",
       "2             Brown   Numerous  Meadows  \n",
       "3             Black  Scattered    Urban  \n",
       "4             Brown   Abundant  Grasses  "
      ]
     },
     "execution_count": 2,
     "metadata": {},
     "output_type": "execute_result"
    }
   ],
   "source": [
    "import matplotlib.pyplot as plt\n",
    "import pandas as pd\n",
    "import seaborn as sns\n",
    "\n",
    "pd.set_option(\"display.max_columns\", 25)\n",
    "\n",
    "df = pd.read_csv(\"mushroom_data.csv\")\n",
    "df.head()"
   ]
  },
  {
   "cell_type": "markdown",
   "metadata": {},
   "source": [
    "**Answer:** If you read through the header of **mushroom_data.csv**, you will see that every single variable is a categorical variable. Therefore, you can create bar charts for the counts of every variable in the csv file."
   ]
  },
  {
   "cell_type": "markdown",
   "metadata": {},
   "source": [
    "2. There are 23 variables in this dataset (one for each column). One of them (the `Bruises` variable) has `True` or `False` responses. This will create problems when we try to plot this column later on. \n",
    "\n",
    "   One way we can fix this issue is by converting each `True` and `False` value to a string. Iterate through the elements in the `Bruises` variable and convert each value to a string using the `str()` method.\n",
    "   \n",
    "   Now, all our variables are of `object` types, which means we can graph them. Graphing each one individually would be tedious; luckily, you will use loops.\n",
    "\n",
    "   If you look at the code block below, you will see an attribute called `columns`. This attribute returns the name of each variable in **mushroom_data.csv**.\n",
    "   - Create a loop that traverses each `column` in the `columns` list.\n",
    "   - Print each `column` in `columns` while iterating through the loop. This is to check that your `for` loop is working correctly."
   ]
  },
  {
   "cell_type": "code",
   "execution_count": 3,
   "metadata": {},
   "outputs": [
    {
     "name": "stdout",
     "output_type": "stream",
     "text": [
      "Class\n",
      "Cap Shape\n",
      "Cap Surface\n",
      "Cap Color\n",
      "Bruises\n",
      "Odor\n",
      "Gill Attachment\n",
      "Gill Spacing\n",
      "Gill Size\n",
      "Gill Color\n",
      "Stalk Shape\n",
      "Stalk Root\n",
      "Stalk Surface Above Ring\n",
      "Stalk Surface Below Ring\n",
      "Stalk Color Above Ring\n",
      "Stalk Color Below Ring\n",
      "Veil Type\n",
      "Veil Color\n",
      "Ring Number\n",
      "Ring Type\n",
      "Spore Print Color\n",
      "Population\n",
      "Habitat\n"
     ]
    },
    {
     "name": "stderr",
     "output_type": "stream",
     "text": [
      "/var/folders/75/8cznfb4d2j56mrdwqyh36s3w0000gn/T/ipykernel_5061/2458949721.py:3: SettingWithCopyWarning: \n",
      "A value is trying to be set on a copy of a slice from a DataFrame\n",
      "\n",
      "See the caveats in the documentation: https://pandas.pydata.org/pandas-docs/stable/user_guide/indexing.html#returning-a-view-versus-a-copy\n",
      "  df['Bruises'][index] = str(df['Bruises'][index])\n",
      "/var/folders/75/8cznfb4d2j56mrdwqyh36s3w0000gn/T/ipykernel_5061/2458949721.py:3: FutureWarning: Setting an item of incompatible dtype is deprecated and will raise in a future error of pandas. Value 'True' has dtype incompatible with bool, please explicitly cast to a compatible dtype first.\n",
      "  df['Bruises'][index] = str(df['Bruises'][index])\n"
     ]
    }
   ],
   "source": [
    "# list of all column headers\n",
    "for index in range(0,len(df['Bruises'])):\n",
    "    df['Bruises'][index] = str(df['Bruises'][index])\n",
    "columns = df.columns.tolist()\n",
    "\n",
    "for column in columns:\n",
    "    print(column)"
   ]
  },
  {
   "cell_type": "markdown",
   "metadata": {},
   "source": [
    "3. In the output above, you should see 23 column names pop up starting with `class` and ending with `habitat`.\n",
    "\n",
    "   Great! Your `for` loop is working, so feel free to comment out your print statement.\n",
    "   \n",
    "   You can now plot your data using the `.countplot()` method from the seaborn library. Follow these steps:\n",
    "   - Call `.countplot()` in the `for` loop\n",
    "   - Use `column` and the `df` pandas DataFrame to graph the value counts of each variable in **mushroom_data.csv**.\n",
    "   \n",
    "   Please wait until the next task to use `plt.show()`."
   ]
  },
  {
   "cell_type": "code",
   "execution_count": null,
   "metadata": {},
   "outputs": [],
   "source": [
    "for column in columns:\n",
    "    sns.countplot(x=column, data=df)"
   ]
  },
  {
   "cell_type": "markdown",
   "metadata": {},
   "source": [
    "4. At the end of your `for` loop, add the following lines of code to show your plots:\n",
    "\n",
    "   ```py\n",
    "   plt.show()\n",
    "   plt.clf()\n",
    "   ```\n",
    "   \n",
    "   The `.show()` Matplotlib method should look familiar from the previous lesson, but [.clf()](https://matplotlib.org/3.1.1/api/_as_gen/matplotlib.pyplot.clf.html) might be unfamiliar. This method is also from the Matplotlib library. It clears any previous figure formatting. This will keep any graphs you are plotting from bunching up on each other. Instead, your plots will be neatly stacked on top of each other with spacing ideal for viewing."
   ]
  },
  {
   "cell_type": "code",
   "execution_count": null,
   "metadata": {},
   "outputs": [],
   "source": [
    "for column in columns:\n",
    "    # print(column)\n",
    "    sns.countplot(x = df[column], data=df)\n",
    "    plt.show()\n",
    "    plt.clf()"
   ]
  },
  {
   "cell_type": "markdown",
   "metadata": {},
   "source": [
    "5. After using `plt.show()` and `plt.clf()`, 23 plots should appear in the output below the previous code block. Scroll through each of the graphs, and see what sort of trends you immediately see.\n",
    "   - What variables have an obvious mode?\n",
    "   - Do any of them have a notably diverse array of values?\n",
    "   - What habitat are you most likely to find mushrooms in?\n",
    "   \n",
    "   What questions did you have before seeing the graphs? What questions are popping up now that you see them?\n",
    "   \n",
    "   In the next few steps, you will clean up the graphs and make them more readable and useful for finding patterns."
   ]
  },
  {
   "cell_type": "markdown",
   "metadata": {},
   "source": [
    "## Cleaning the Bar Graphs"
   ]
  },
  {
   "cell_type": "markdown",
   "metadata": {},
   "source": [
    "6. As you scroll through the graphs, you may notice some imperfections. For example, some of the x-axis labels overlap each other. The font size for the labels along the x-axis is also pretty small, making them tough to read.\n",
    "\n",
    "   Let's fix these up with two lines of code.\n",
    "   \n",
    "   Following your `.countplot()` method, add the following two lines of code in your `for` loop:\n",
    "   ```py\n",
    "   # rotates the value labels slightly so they don't overlap, also slightly increases font size\n",
    "   plt.xticks(rotation=30, fontsize=10)\n",
    "   # increases the variable label font size slightly to increase readability\n",
    "   plt.xlabel(column, fontsize=12)\n",
    "   ```"
   ]
  },
  {
   "cell_type": "code",
   "execution_count": null,
   "metadata": {},
   "outputs": [],
   "source": [
    "for column in columns:\n",
    "    # print(column)\n",
    "    sns.countplot(x = df[column], data=df)\n",
    "    # rotates the value labels slightly so they don't overlap, also slightly increases font size\n",
    "    plt.xticks(rotation=30, fontsize=10)\n",
    "    # increases the variable label font size slightly to increase readability\n",
    "    plt.xlabel(column, fontsize=12)\n",
    "    plt.show()\n",
    "    plt.clf()"
   ]
  },
  {
   "cell_type": "markdown",
   "metadata": {},
   "source": [
    "7. One more thing you can do to increase readability is to add an informative title. Using `.title()` from the Matplotlib library, give your graph the following title:\n",
    "\n",
    "   ```\n",
    "   {Variable Name} Value Counts\n",
    "   ```\n",
    "   \n",
    "   Use `column` to capture each column name. Be sure to call this method after `.countplot()` inside of your `for` loop."
   ]
  },
  {
   "cell_type": "code",
   "execution_count": null,
   "metadata": {},
   "outputs": [],
   "source": [
    "for column in columns:\n",
    "    # print(column)\n",
    "    sns.countplot(x = df[column], data=df)\n",
    "    # rotates the value labels slightly so they don't overlap, also slightly increases font size\n",
    "    plt.xticks(rotation=30, fontsize=10)\n",
    "    # increases the variable label font size slightly to increase readability\n",
    "    plt.xlabel(column, fontsize=12)\n",
    "    plt.title(column + \" Value Counts\")\n",
    "    plt.show()\n",
    "    plt.clf()"
   ]
  },
  {
   "cell_type": "markdown",
   "metadata": {},
   "source": [
    "## Ordering the Bars for Analysis"
   ]
  },
  {
   "cell_type": "markdown",
   "metadata": {},
   "source": [
    "8. The graphs are readable, but you can take it another step further.\n",
    "   - Add the `order` parameter to your `.countplot()` method.\n",
    "   - Set the parameter to that the value counts in each column are in descending order.\n",
    "   \n",
    "   You will need to use the `.value_counts()` pandas method and the `.index` pandas object."
   ]
  },
  {
   "cell_type": "code",
   "execution_count": null,
   "metadata": {},
   "outputs": [],
   "source": [
    "for column in columns:\n",
    "    # print(column)\n",
    "    sns.countplot(x = df[column], data=df, order=df[column].value_counts().index)\n",
    "    # rotates the value labels slightly so they don't overlap, also slightly increases font size\n",
    "    plt.xticks(rotation=30, fontsize=10)\n",
    "    # increases the variable label font size slightly to increase readability\n",
    "    plt.xlabel(column, fontsize=12)\n",
    "    plt.title(column + \" Value Counts\")\n",
    "    plt.show()\n",
    "    plt.clf()"
   ]
  },
  {
   "cell_type": "markdown",
   "metadata": {},
   "source": [
    "9. Great job! In relatively few lines of code, you have created 23 informative plots. Now that they are titled, labeled clearly, and ordered, you can really dive in on your analysis.\n",
    "\n",
    "   Think about how someone could best use these visualizations. It is easy to tell which features of mushrooms are most common and rare, and we get insights into the variety of mushrooms in the fungi kingdom.\n",
    "   \n",
    "   Spend some time looking over the graphs. Write down exciting insights you find. Here are some examples to get you started:\n",
    "   - It is a roughly equal split between mushrooms that are edible vs. poisonous.\n",
    "   - The majority of mushrooms in this dataset have a scaly surface.\n",
    "   - There are a non-insignificant amount of mushrooms that give off an almond scent?!!!\n",
    "   - Most top surfaces of mushrooms in this dataset are scaly rather than smooth.\n",
    "   \n",
    "   Some of your analysis may also require research into mushroom features for any of the x-labels. We hope you enjoy continuing to explore the world of these fun guys!"
   ]
  },
  {
   "cell_type": "markdown",
   "metadata": {},
   "source": [
    "## Extensions"
   ]
  },
  {
   "cell_type": "markdown",
   "metadata": {},
   "source": [
    "10. Feel free to play around with the graphs and customize them any way you want to help in your analysis! Here are some ideas to get yourself started:\n",
    "    * Turn any bar graph with less than six bars into a pie chart (hint: use a conditional statement!).\n",
    "    * Create your bar charts using a list comprehension instead of a `for` loop.\n",
    "    * Change the color theme of your graphs using the seaborn [color](https://seaborn.pydata.org/generated/seaborn.countplot.html) or [palette](https://seaborn.pydata.org/tutorial/color_palettes.html) parameters.\n",
    "    * Remove any graphs you find uninformative.\n",
    "    * Change around the current title or label formatting.\n",
    "    \n",
    "    Happy Coding! :)"
   ]
  },
  {
   "cell_type": "code",
   "execution_count": null,
   "metadata": {},
   "outputs": [],
   "source": []
  },
  {
   "cell_type": "code",
   "execution_count": null,
   "metadata": {},
   "outputs": [],
   "source": []
  }
 ],
 "metadata": {
  "kernelspec": {
   "display_name": "Python 3",
   "language": "python",
   "name": "python3"
  },
  "language_info": {
   "codemirror_mode": {
    "name": "ipython",
    "version": 3
   },
   "file_extension": ".py",
   "mimetype": "text/x-python",
   "name": "python",
   "nbconvert_exporter": "python",
   "pygments_lexer": "ipython3",
   "version": "3.12.0"
  }
 },
 "nbformat": 4,
 "nbformat_minor": 5
}
